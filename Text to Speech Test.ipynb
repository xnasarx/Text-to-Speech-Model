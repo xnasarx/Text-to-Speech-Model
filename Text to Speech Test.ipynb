{
 "cells": [
  {
   "cell_type": "code",
   "execution_count": 1,
   "id": "a4051af1",
   "metadata": {},
   "outputs": [],
   "source": [
    "from gtts import gTTS"
   ]
  },
  {
   "cell_type": "code",
   "execution_count": 2,
   "id": "d08113b1",
   "metadata": {},
   "outputs": [],
   "source": [
    "language = \"hi\""
   ]
  },
  {
   "cell_type": "code",
   "execution_count": 3,
   "id": "8660777f",
   "metadata": {},
   "outputs": [],
   "source": [
    "text = \"ऋत्विज नाम का एक लड़का है। जो कभी भी फोन नहीं उठाता उससे बचकर रहे सावधान रहे, सुखी रहे। कृपा से प्यार करता है, ये है उसकी सचाई। मुर्गी चोर भेनछोड़। गंदू बिहारी हरामी। फोन उठा लिया कर हरामी साले। सुंदर लडका ऋत्विज।\""
   ]
  },
  {
   "cell_type": "code",
   "execution_count": 4,
   "id": "17adb32a",
   "metadata": {},
   "outputs": [],
   "source": [
    "speech = gTTS(text = text, lang = language, slow = False)"
   ]
  },
  {
   "cell_type": "code",
   "execution_count": 5,
   "id": "e1973971",
   "metadata": {},
   "outputs": [],
   "source": [
    "speech.save(\"Ritvij.mp3\")"
   ]
  },
  {
   "cell_type": "code",
   "execution_count": 6,
   "id": "aa56abea",
   "metadata": {},
   "outputs": [],
   "source": [
    "#import pickle\n",
    "#pickle.dump(speech, open('transform.pkl','wb'))"
   ]
  }
 ],
 "metadata": {
  "kernelspec": {
   "display_name": "Python 3 (ipykernel)",
   "language": "python",
   "name": "python3"
  },
  "language_info": {
   "codemirror_mode": {
    "name": "ipython",
    "version": 3
   },
   "file_extension": ".py",
   "mimetype": "text/x-python",
   "name": "python",
   "nbconvert_exporter": "python",
   "pygments_lexer": "ipython3",
   "version": "3.9.12"
  }
 },
 "nbformat": 4,
 "nbformat_minor": 5
}
